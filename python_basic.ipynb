{
 "cells": [
  {
   "cell_type": "markdown",
   "id": "e234096d",
   "metadata": {},
   "source": [
    "# welcome"
   ]
  },
  {
   "cell_type": "code",
   "execution_count": 2,
   "id": "91c4da6a",
   "metadata": {},
   "outputs": [
    {
     "name": "stdout",
     "output_type": "stream",
     "text": [
      "welcome to Python Pizza Deliverys\n"
     ]
    }
   ],
   "source": [
    "print(\"welcome to Python Pizza Deliverys\")"
   ]
  },
  {
   "cell_type": "code",
   "execution_count": 8,
   "id": "03f072b3",
   "metadata": {},
   "outputs": [
    {
     "name": "stdout",
     "output_type": "stream",
     "text": [
      "entrer la taille (S,M,L)L\n",
      "Ajouter du pepperoni?(O,N)O\n",
      "Ajouter du fromage(O,N)N\n",
      "votre facture est 28$\n"
     ]
    }
   ],
   "source": [
    "size= input(\"entrer la taille (S,M,L)\")\n",
    "add_pepperoni=input(\"Ajouter du pepperoni?(O,N)\")\n",
    "extra_cheese=input(\"Ajouter du fromage(O,N)\")\n",
    "facture=0\n",
    "if size=='S':\n",
    "    facture+=15\n",
    "    if add_pepperoni=='O':\n",
    "        facture+=2\n",
    "        if extra_cheese=='O':\n",
    "            facture+=1\n",
    "        \n",
    "elif size=='M':  \n",
    "    facture+=20\n",
    "    if add_pepperoni=='O':\n",
    "        facture+=3\n",
    "        if extra_cheese=='O':\n",
    "            facture+=1\n",
    "elif size=='L':\n",
    "    facture+=25\n",
    "    if add_pepperoni=='O':\n",
    "        facture+=3\n",
    "        if extra_cheese=='O':\n",
    "            facture+=1\n",
    "print(f\"votre facture est {facture}$\")"
   ]
  },
  {
   "cell_type": "code",
   "execution_count": null,
   "id": "ed03a016",
   "metadata": {},
   "outputs": [],
   "source": []
  }
 ],
 "metadata": {
  "kernelspec": {
   "display_name": "Python 3 (ipykernel)",
   "language": "python",
   "name": "python3"
  },
  "language_info": {
   "codemirror_mode": {
    "name": "ipython",
    "version": 3
   },
   "file_extension": ".py",
   "mimetype": "text/x-python",
   "name": "python",
   "nbconvert_exporter": "python",
   "pygments_lexer": "ipython3",
   "version": "3.10.9"
  }
 },
 "nbformat": 4,
 "nbformat_minor": 5
}
